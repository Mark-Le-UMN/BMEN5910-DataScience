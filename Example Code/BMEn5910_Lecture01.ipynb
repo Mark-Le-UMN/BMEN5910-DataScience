{
  "nbformat": 4,
  "nbformat_minor": 0,
  "metadata": {
    "colab": {
      "provenance": []
    },
    "kernelspec": {
      "name": "python3",
      "display_name": "Python 3"
    },
    "language_info": {
      "name": "python"
    }
  },
  "cells": [
    {
      "cell_type": "code",
      "source": [
        "# Importing Data into Colab (Approach 1) -- Local Drive\n",
        "# You can also import data from your local hard drive using the following:\n",
        "\n",
        "from google.colab import files\n",
        "uploaded = files.upload()\n",
        "\n",
        "import pandas as pd\n",
        "import io\n",
        "\n",
        "# Reading in the CSV file\n",
        "data = pd.read_csv(io.BytesIO(uploaded[list(uploaded.keys())[0]]))  # Adjust file name if needed\n",
        "\n",
        "# For large data sets, you may consider using:\n",
        "print(data)           # prints the first 5 rows\n",
        "print(data.head(10))  # prints the first n rows\n",
        "print(data.tail(10))  # prints the last n rows\n",
        "\n",
        "# Calculate the average of column: 'radius_mean' for each biopsy category:\n",
        "#  malignant 'M' and benign 'B'\n",
        "print(data['radius_mean'].loc[data['diagnosis'] == 'M'].mean())\n",
        "print(data['radius_mean'].loc[data['diagnosis'] == 'B'].mean())\n",
        "\n",
        "# Compare radius_mean for different diagnosis classes\n",
        "d_groups = data.groupby('diagnosis')\n",
        "mean_radius_by_d = d_groups['radius_mean'].mean()\n",
        "\n",
        "print(mean_radius_by_d)"
      ],
      "metadata": {
        "id": "sZ38WNMNA22V"
      },
      "execution_count": null,
      "outputs": []
    },
    {
      "cell_type": "code",
      "execution_count": null,
      "metadata": {
        "id": "45Rxw-Wn_1rF"
      },
      "outputs": [],
      "source": [
        "# Importing Data into Colab (Approach 2) -- Google Drive\n",
        "# You can mount your google drive to access data files manually using the\n",
        "# 'Files' icon on the left sidebar and clicking the 'Mount Drive' icon\n",
        "\n",
        "# Or, you can mount your google drive using the following commands:\n",
        "from google.colab import drive\n",
        "drive.mount('/content/drive')\n",
        "\n",
        "# Read in your CSV data file from your google drive folder\n",
        "import pandas as pd\n",
        "data=pd.read_csv('drive/MyDrive/BMEn5910/Lecture01/breast-cancer.csv')\n",
        "\n",
        "# Avoid this for large data sets, but one can visualize data using:\n",
        "print(data.to_string())\n",
        "\n",
        "# Compare radius_mean for different diagnosis classes\n",
        "diagnosis_groups = data.groupby('diagnosis')\n",
        "mean_radius_by_diagnosis = diagnosis_groups['radius_mean'].mean()\n",
        "\n",
        "print(mean_radius_by_diagnosis)"
      ]
    },
    {
      "cell_type": "code",
      "source": [
        "# Importing Data into Colab (Approach 3) -- GitHub Repository\n",
        "# You can clone data from a GitHub repository\n",
        "\n",
        "# Clone a GitHub Repository\n",
        "!git clone https://github.com/BMEn-datascience/Lecture01.git\n",
        "\n",
        "# Note that the repository is shown under the files icon in the left sidebar\n",
        "# You can also view the folders using the command: !ls\n",
        "!ls\n",
        "\n",
        "# Let's import one of the .csv files\n",
        "import pandas as pd\n",
        "data = pd.read_csv('Lecture01/breast-cancer.csv')\n",
        "\n",
        "# Create a violin plot comparing 'radius_mean' data for 'M' and 'B' categories\n",
        "import seaborn as sns\n",
        "sns.set_theme()\n",
        "sns.violinplot(x='diagnosis', y='radius_mean', data=data)\n",
        "\n",
        "# Calculate a t-test between 'radius_mean' data for 'M' and 'B' categories\n",
        "from scipy import stats\n",
        "stats.ttest_ind(data['radius_mean'].loc[data['diagnosis'] == 'B'],\n",
        "                data['radius_mean'].loc[data['diagnosis'] == 'M'])"
      ],
      "metadata": {
        "id": "4oqPSwwMAJuP"
      },
      "execution_count": null,
      "outputs": []
    },
    {
      "cell_type": "code",
      "source": [],
      "metadata": {
        "id": "5xgA1aloA1fv"
      },
      "execution_count": null,
      "outputs": []
    }
  ]
}