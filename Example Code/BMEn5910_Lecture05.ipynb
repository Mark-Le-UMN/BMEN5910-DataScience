{
  "nbformat": 4,
  "nbformat_minor": 0,
  "metadata": {
    "colab": {
      "provenance": []
    },
    "kernelspec": {
      "name": "python3",
      "display_name": "Python 3"
    },
    "language_info": {
      "name": "python"
    }
  },
  "cells": [
    {
      "cell_type": "code",
      "execution_count": null,
      "metadata": {
        "id": "vfO28tXvZ5jm"
      },
      "outputs": [],
      "source": [
        "# Analyze a CSV file containing hospital admissions\n",
        "# from the MIMIC III database\n",
        "# (https://physionet.org/content/mimiciii-demo/1.4/)\n",
        "\n",
        "import pandas as pd\n",
        "\n",
        "# Read in the EHR data table\n",
        "df = pd.read_csv('ADMISSIONS.csv')\n",
        "\n",
        "# Count the total number of patients\n",
        "total_patients = len(df)\n",
        "\n",
        "# Count the number of patients with sepsis\n",
        "# sepsis_patients = len(df[df['diagnosis'] == 'SEPSIS']) # this will not count all the SEPSIS cases\n",
        "sepsis_patients = len(df[df['diagnosis'].str.contains('SEPSIS', na=False)])\n",
        "\n",
        "# Count the number of sepsis patients who died\n",
        "sepsis_died = len(df[(df['diagnosis'].str.contains('SEPSIS', na=False)) & (df['hospital_expire_flag'] == 1)])\n",
        "\n",
        "print(f\"Total number of patients: {total_patients}\")\n",
        "print(f\"Number of patients with sepsis: {sepsis_patients}\")\n",
        "print(f\"Number of sepsis patients who died: {sepsis_died}\")"
      ]
    }
  ]
}